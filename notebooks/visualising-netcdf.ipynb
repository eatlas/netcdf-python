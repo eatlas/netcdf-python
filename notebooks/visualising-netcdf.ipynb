{
 "cells": [
  {
   "cell_type": "markdown",
   "metadata": {},
   "source": [
    "# Visualising NetCDF data in Python\n",
    "\n",
    "This notebook tutorial was produced by the [Knowledge Systems](eatlas.org.au) team at the [Australian Institute of Marine Science](www.aims.gov.au) to  guide the reader through downloading a dataset file, inspecting metadata of interest, and visualising the data on a map. This tutorial will use the [GBR photosynthetically active radiation (PAR) at 8 m depth](https://eatlas.org.au/data/uuid/eebd1438-2d4e-4f60-9055-27e6b9e58c3a) dataset from the [Benthic light as ecologically-validated GBR-wide indicator for water quality (NESP TWQ Project 5.3)](https://eatlas.org.au/nesp-twq-5/benthic-light-5-3) project, which was part of the [NESP Tropical Water Quality hub](https://nesptropical.edu.au).\n",
    "\n",
    "This notebook can be run directly from Google Colab (if not already) by clicking the \"Open in Colab\" button below.\n",
    "\n",
    "[![Open In Colab](https://colab.research.google.com/assets/colab-badge.svg)](https://colab.research.google.com/github/eatlas/netcdf-python/blob/main/notebooks/visualising-netcdf.ipynb)"
   ]
  },
  {
   "cell_type": "markdown",
   "source": [
    "### Prepare the environment.\n",
    "This next cell will install any libraries that are required but are not already installed. This only needs to be done once for the lifetime of the active notebook."
   ],
   "metadata": {
    "collapsed": false
   }
  },
  {
   "cell_type": "code",
   "execution_count": null,
   "outputs": [],
   "source": [
    "# Re-install 'shapely' because of a bug that crashes the notebook when plotting a variable on a map.\n",
    "!pip uninstall shapely --yes\n",
    "!pip install shapely --no-binary shapely\n",
    "\n",
    "# Install 3rd party libraries required by the code.\n",
    "!pip3 install netcdf4 cartopy"
   ],
   "metadata": {
    "collapsed": false,
    "pycharm": {
     "name": "#%%\n"
    }
   }
  },
  {
   "cell_type": "markdown",
   "source": [
    "### Download sample data\n",
    "Download sample data from the PAR8 dataset.\n",
    "\n",
    "<b>NOTE:</b> This need only be done once, as the file will be cached. However, running this command multiple times will NOT cause any problems."
   ],
   "metadata": {
    "collapsed": false
   }
  },
  {
   "cell_type": "code",
   "execution_count": null,
   "metadata": {
    "pycharm": {
     "name": "#%%\n"
    }
   },
   "outputs": [],
   "source": [
    "!curl https://maps.eatlas.org.au/thredds/fileServer/NESP-TWQ-5-3_Benthic-light/xr_par8/orig/xr_par8_daily/xr_par8_daily_2019.nc --output xr_par8_daily_2019.nc"
   ]
  },
  {
   "cell_type": "markdown",
   "metadata": {},
   "source": [
    "### Connect to the dataset"
   ]
  },
  {
   "cell_type": "code",
   "execution_count": null,
   "metadata": {
    "pycharm": {
     "name": "#%%\n"
    }
   },
   "outputs": [],
   "source": [
    "# Import the NetCDF library for accessing and manipulating NetCDF libraries.\n",
    "import netCDF4 as nc\n",
    "\n",
    "# Open the Par8 NetCDF file downloaded previously.\n",
    "dataset = nc.Dataset('xr_par8_daily_2019.nc')\n",
    "\n",
    "# Print the high-level metadata.\n",
    "print(dataset)"
   ]
  },
  {
   "cell_type": "markdown",
   "source": [
    "This shows the dataset-level metadata (lower-level objects, such as variables, can have their own metadata). Some things to notice here:\n",
    "\n",
    "1. Dimensions contained in this dataset are: `lon` (longitude, 1344 steps), `lat` (latitude, 1536 steps), `time` (365 days).\n",
    "2. Variables are:\n",
    "    - lon - the actual values of the longitude dimension, referred to as a Dimension Variable.\n",
    "    - lat - the actual values of the latitude dimension, referred to as a Dimension Variable.\n",
    "    - par8 - the variable data we will visualise.\n",
    "\n",
    "The metadata is also available as a Python Dict for easier processing:"
   ],
   "metadata": {
    "collapsed": false,
    "pycharm": {
     "name": "#%% md\n"
    }
   }
  },
  {
   "cell_type": "code",
   "execution_count": null,
   "outputs": [],
   "source": [
    "print(dataset.__dict__)\n",
    "\n",
    "# As an example.\n",
    "print('\\nmetadata_link: ' + dataset.__dict__['metadata_link'])"
   ],
   "metadata": {
    "collapsed": false,
    "pycharm": {
     "name": "#%%\n"
    }
   }
  },
  {
   "cell_type": "markdown",
   "source": [
    "### Dimensions\n",
    "As previously stated, NetCDF files are often used for multi-dimensional data. Each dimension is stored as a dimension class which contains pertinent information. Metadata for all dimensions can be access by looping through all available dimensions."
   ],
   "metadata": {
    "collapsed": false,
    "pycharm": {
     "name": "#%% md\n"
    }
   }
  },
  {
   "cell_type": "code",
   "execution_count": null,
   "metadata": {
    "pycharm": {
     "name": "#%%\n"
    }
   },
   "outputs": [],
   "source": [
    "for dimension in dataset.dimensions.values():\n",
    "    print(dimension)"
   ]
  },
  {
   "cell_type": "markdown",
   "metadata": {
    "pycharm": {
     "name": "#%% md\n"
    }
   },
   "source": [
    "An individual dimension can be access directly:"
   ]
  },
  {
   "cell_type": "code",
   "execution_count": null,
   "metadata": {
    "pycharm": {
     "name": "#%%\n"
    }
   },
   "outputs": [],
   "source": [
    "print(dataset.dimensions['lon'])"
   ]
  },
  {
   "cell_type": "markdown",
   "metadata": {},
   "source": [
    "### Variables\n",
    "Metadata for all variables can be accessed similarly."
   ]
  },
  {
   "cell_type": "code",
   "execution_count": null,
   "metadata": {
    "pycharm": {
     "name": "#%%\n"
    }
   },
   "outputs": [],
   "source": [
    "for variable in dataset.variables.values():\n",
    "    print(variable)"
   ]
  },
  {
   "cell_type": "markdown",
   "source": [
    "And for a specific variable:"
   ],
   "metadata": {
    "collapsed": false,
    "pycharm": {
     "name": "#%% md\n"
    }
   }
  },
  {
   "cell_type": "code",
   "execution_count": null,
   "metadata": {
    "pycharm": {
     "name": "#%%\n"
    }
   },
   "outputs": [],
   "source": [
    "print(dataset['par8'])"
   ]
  },
  {
   "cell_type": "markdown",
   "metadata": {
    "pycharm": {
     "name": "#%% md\n"
    }
   },
   "source": [
    "Notes about the `par8` data:\n",
    "\n",
    "__`float32 par8(time, lat, lon)`__ - 3-dimensions, with the order being: `time`, `lat` and then `lon`. This is important later when accessing the data.\n",
    "\n",
    "__`current shape = (365, 1536, 1344)`__ - the size of the data cube is 365 x 1536 x 1344, which matches the size of the dimensions from earlier."
   ]
  },
  {
   "cell_type": "markdown",
   "metadata": {
    "pycharm": {
     "name": "#%% md\n"
    }
   },
   "source": [
    "### Visualise the data\n",
    "\n",
    "Retrieve the latitude and longitude data. Note the syntax as the latitude and longitude dimension variables are 1-dimensional."
   ]
  },
  {
   "cell_type": "code",
   "execution_count": null,
   "metadata": {
    "pycharm": {
     "name": "#%%\n"
    }
   },
   "outputs": [],
   "source": [
    "lons = dataset['lon'][:]\n",
    "lats = dataset['lat'][:]"
   ]
  },
  {
   "cell_type": "markdown",
   "source": [
    "Retrieve the variable data. Note that the variable data is 3-dimensional, with the first dimension being the day, from 0 (zero) to 365. Here we choose a random day to visualise."
   ],
   "metadata": {
    "collapsed": false,
    "pycharm": {
     "name": "#%% md\n"
    }
   }
  },
  {
   "cell_type": "code",
   "execution_count": null,
   "outputs": [],
   "source": [
    "par8 = dataset['par8'][287,:,:]"
   ],
   "metadata": {
    "collapsed": false,
    "pycharm": {
     "name": "#%%\n"
    }
   }
  },
  {
   "cell_type": "markdown",
   "source": [
    "Find the minimum and maximum values for the map legend."
   ],
   "metadata": {
    "collapsed": false,
    "pycharm": {
     "name": "#%% md\n"
    }
   }
  },
  {
   "cell_type": "code",
   "execution_count": null,
   "outputs": [],
   "source": [
    "import numpy as np\n",
    "import math\n",
    "\n",
    "# Scan the extracted data for the minimum and maximum.\n",
    "min_value = math.floor(np.amin(par8))\n",
    "max_value = math.ceil(np.amax(par8))\n",
    "print(f'min value: {min_value}')\n",
    "print(f'max_value: {max_value}')"
   ],
   "metadata": {
    "collapsed": false,
    "pycharm": {
     "name": "#%%\n"
    }
   }
  },
  {
   "cell_type": "markdown",
   "source": [
    "Display the data on a map."
   ],
   "metadata": {
    "collapsed": false,
    "pycharm": {
     "name": "#%% md\n"
    }
   }
  },
  {
   "cell_type": "code",
   "execution_count": null,
   "outputs": [],
   "source": [
    "import matplotlib.pyplot as plt\n",
    "import cartopy.crs as ccrs\n",
    "\n",
    "fig = plt.figure(figsize=(16,8))\n",
    "ax = plt.axes(projection=ccrs.Robinson())\n",
    "ax.gridlines(linestyle='--',color='black')\n",
    "ax.coastlines()\n",
    "clevs = np.arange(min_value,max_value,1)\n",
    "plt.contourf(lons, lats, par8, clevs, transform=ccrs.PlateCarree(),cmap=plt.cm.jet)\n",
    "plt.title(dataset['par8'].__dict__['long_name'], size=14)\n",
    "cb = plt.colorbar(ax=ax, orientation=\"vertical\", pad=0.02, aspect=16, shrink=0.8)\n",
    "cb.set_label(dataset['par8'].__dict__['units'],size=12,rotation=90,labelpad=15)\n",
    "cb.ax.tick_params(labelsize=10)"
   ],
   "metadata": {
    "collapsed": false,
    "pycharm": {
     "name": "#%%\n"
    }
   }
  },
  {
   "cell_type": "markdown",
   "metadata": {
    "pycharm": {
     "name": "#%% md\n"
    }
   },
   "source": [
    "## Links\n",
    "- [Python Netcdf library](https://unidata.github.io/netcdf4-python/)\n",
    "- [GBR photosynthetically active radiation (PAR) at 8 m depth](https://eatlas.org.au/data/uuid/eebd1438-2d4e-4f60-9055-27e6b9e58c3a)\n",
    "- [Benthic light as ecologically-validated GBR-wide indicator for water quality (NESP TWQ Project 5.3)](https://eatlas.org.au/nesp-twq-5/benthic-light-5-3)\n",
    "- [NESP Tropical Water Quality hub](https://nesptropical.edu.au)\n",
    "\n",
    "## Acknowledgements\n",
    "These tutorials build on ideas and content from the following sources:\n",
    "- [Read NetCDF Data with Python](https://towardsdatascience.com/read-netcdf-data-with-python-901f7ff61648)\n"
   ]
  },
  {
   "cell_type": "code",
   "execution_count": null,
   "metadata": {},
   "outputs": [],
   "source": []
  }
 ],
 "metadata": {
  "kernelspec": {
   "display_name": "Python 3",
   "language": "python",
   "name": "python3"
  },
  "language_info": {
   "codemirror_mode": {
    "name": "ipython",
    "version": 3
   },
   "file_extension": ".py",
   "mimetype": "text/x-python",
   "name": "python",
   "nbconvert_exporter": "python",
   "pygments_lexer": "ipython3",
   "version": "3.8.6"
  }
 },
 "nbformat": 4,
 "nbformat_minor": 1
}