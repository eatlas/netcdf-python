{
 "cells": [
  {
   "cell_type": "markdown",
   "metadata": {},
   "source": [
    "# Regridding NetCDF data in Python\n",
    "\n",
    "This notebook tutorial was produced by the [Knowledge Systems](eatlas.org.au) team at the [Australian Institute of Marine Science](www.aims.gov.au) to  guide the reader through regridding NetCDF data in Python. Please refer to the article on [Visualising NetCDF data](./visualising-netcdf.ipynb) for a more general introduction to working with NetCDF files. This tutorial will use the [eReefs Hydrodynamic and BioGeoChemical models of the Great Barrier Reef (GBR)](https://ereefs.aims.gov.au/ereefs-aims) dataset.\n",
    "\n",
    "This notebook can be run directly from Google Colab (if not already) by clicking the \"Open in Colab\" button below.\n",
    "\n",
    "[![Open In Colab](https://colab.research.google.com/assets/colab-badge.svg)](https://colab.research.google.com/github/eatlas/netcdf-python/blob/master/notebooks/visualising-netcdf.ipynb)"
   ]
  },
  {
   "cell_type": "markdown",
   "source": [
    "### Prepare the environment."
   ],
   "metadata": {
    "collapsed": false
   }
  },
  {
   "cell_type": "code",
   "execution_count": null,
   "outputs": [],
   "source": [
    "# Re-install 'shapely' because of a bug that crashes the notebook when plotting a variable on a map.\n",
    "!pip uninstall shapely --yes\n",
    "!pip install shapely --no-binary shapely\n",
    "\n",
    "# Install 3rd party libraries required by the code.\n",
    "!pip3 install netcdf4 cartopy\n",
    "\n",
    "# Install regridding modules.\n",
    "!mkdir regrid\n",
    "#!curl https://colab.research.google.com/github/eatlas/netcdf-python/blob/master/regrid/builder.py --output regrid/builder.py\n",
    "#!curl https://colab.research.google.com/github/eatlas/netcdf-python/blob/master/regrid/regridder.py --output regrid/regridder.py\n",
    "\n",
    "# Enable logging.\n",
    "import logging\n",
    "logging.basicConfig(level=logging.DEBUG)"
   ],
   "metadata": {
    "collapsed": false,
    "pycharm": {
     "name": "#%%\n"
    }
   }
  },
  {
   "cell_type": "code",
   "execution_count": null,
   "outputs": [],
   "source": [
    "# Download data\n",
    "!curl https://dapds00.nci.org.au/thredds/fileServer/fx3/gbr1_2.0/gbr1_simple_2018-01-10.nc --output gbr1_simple_2018-01-10.nc"
   ],
   "metadata": {
    "collapsed": false,
    "pycharm": {
     "name": "#%%\n"
    }
   }
  },
  {
   "cell_type": "markdown",
   "metadata": {},
   "source": [
    "### Connect to the dataset"
   ]
  },
  {
   "cell_type": "code",
   "execution_count": null,
   "metadata": {
    "pycharm": {
     "name": "#%%\n"
    }
   },
   "outputs": [],
   "source": [
    "# Import the NetCDF library for accessing and manipulating NetCDF libraries.\n",
    "import netCDF4 as nc\n",
    "\n",
    "# Open the Par8 NetCDF file downloaded previously.\n",
    "dataset = nc.Dataset('gbr1_simple_2018-01-10.nc')\n",
    "\n",
    "# Print the high-level metadata.\n",
    "print(dataset)"
   ]
  },
  {
   "cell_type": "markdown",
   "metadata": {
    "pycharm": {
     "name": "#%% md\n"
    }
   },
   "source": [
    "Some things to notice in the dataset metadata:\n",
    "\n",
    "__`k(44), j(2389), i(510), time(24)`__\n",
    "- `k` represents depth, of which there is 44 depths.\n",
    "- `i` and `j` represent a 2-dimensional grid of latitude and longitude values.\n",
    "- `time` has 24 hours.\n",
    "\n",
    "__`variables(dimensions): float64 zc(k)`__ - `zc` is the Dimension Variable for depth `k`.\n",
    "\n",
    "__`variables(dimensions): float64 longitude(j, i), float64 latitude(j, i)`__ - `longitude` and `latitude` are 2-dimensional variables used to determine the latitude/longitude for a specific cell in the grid.\n",
    "\n",
    "__`variables(dimensions): float32 temp(time, k, j, i)`__ - 4-dimensional variable containing temperature. Given a specific `time` and depth (`k`), the location of the cell (`j`/`i`) can be determined by looking up the `longitude` and `latitude` variables.\n",
    "\n",
    "The metadata is also available as a Python Dict for easier processing:"
   ]
  },
  {
   "cell_type": "code",
   "execution_count": null,
   "metadata": {},
   "outputs": [],
   "source": [
    "print(dataset.__dict__)\n",
    "\n",
    "# As an example.\n",
    "print('\\nmetadata_link: ' + dataset.__dict__['metadata_link'])"
   ]
  },
  {
   "cell_type": "markdown",
   "metadata": {
    "pycharm": {
     "name": "#%% md\n"
    }
   },
   "source": [
    "### Dimensions\n",
    "Metadata for all dimensions can be access by looping through all available dimensions."
   ]
  },
  {
   "cell_type": "code",
   "execution_count": null,
   "metadata": {
    "pycharm": {
     "name": "#%%\n"
    }
   },
   "outputs": [],
   "source": [
    "for dimension in dataset.dimensions.values():\n",
    "    print(dimension)"
   ]
  },
  {
   "cell_type": "markdown",
   "metadata": {
    "pycharm": {
     "name": "#%% md\n"
    }
   },
   "source": [
    "An individual dimension can be access directly:"
   ]
  },
  {
   "cell_type": "code",
   "execution_count": null,
   "metadata": {
    "pycharm": {
     "name": "#%%\n"
    }
   },
   "outputs": [],
   "source": [
    "print(dataset.dimensions['i'])"
   ]
  },
  {
   "cell_type": "markdown",
   "metadata": {
    "pycharm": {
     "name": "#%% md\n"
    }
   },
   "source": [
    "### Variables\n",
    "Metadata for all variables can be accessed similarly."
   ]
  },
  {
   "cell_type": "code",
   "execution_count": null,
   "metadata": {
    "pycharm": {
     "name": "#%%\n"
    }
   },
   "outputs": [],
   "source": [
    "for variable in dataset.variables.values():\n",
    "    print(variable)"
   ]
  },
  {
   "cell_type": "markdown",
   "metadata": {},
   "source": [
    "And for a specific variable:"
   ]
  },
  {
   "cell_type": "code",
   "execution_count": null,
   "metadata": {
    "pycharm": {
     "name": "#%%\n"
    }
   },
   "outputs": [],
   "source": [
    "print(dataset['temp'])"
   ]
  },
  {
   "cell_type": "markdown",
   "metadata": {
    "pycharm": {
     "name": "#%% md\n"
    }
   },
   "source": [
    "Notes about the `temp` data:\n",
    "\n",
    "__`float32 temp(time, k, j, i)`__ - 4-dimensions, with the order being: `time`, depth (`k`), `j` and then `i` (where `j` and `i` are used to identify `latitude` and `longitude` in a 2-dimensional grid).\n",
    "\n",
    "__`current shape = (24, 44, 2389, 510)`__ - the size of the data cube is 24 x 44 x 1536 x 1344, which matches the size of the dimensions from earlier."
   ]
  },
  {
   "cell_type": "markdown",
   "metadata": {
    "pycharm": {
     "name": "#%% md\n"
    }
   },
   "source": [
    "### Visualise the data"
   ]
  },
  {
   "cell_type": "code",
   "metadata": {
    "pycharm": {
     "name": "#%%\n"
    }
   },
   "source": [
    "# Which depths to use?\n",
    "print(f\"Depths are from {dataset['zc'][0]}m to {dataset['zc'][43]}m\")\n",
    "print(f\"We will use {dataset['zc'][40]}m\")\n",
    "\n",
    "# Longitude and latitude.\n",
    "lons = dataset['longitude'][:]\n",
    "lats = dataset['latitude'][:]\n",
    "\n",
    "# Temperature at 4pm (zero-based).\n",
    "temp = dataset['temp'][15,40,:,:]\n",
    "print(f'Variable shape: {temp.shape}')"
   ],
   "execution_count": null,
   "outputs": []
  },
  {
   "cell_type": "markdown",
   "metadata": {
    "pycharm": {
     "name": "#%% md\n"
    }
   },
   "source": [
    "Find the minimum and maximum values for the map legend."
   ]
  },
  {
   "cell_type": "code",
   "execution_count": null,
   "metadata": {},
   "outputs": [],
   "source": [
    "import numpy as np\n",
    "import math\n",
    "\n",
    "# Scan the extracted data for the minimum and maximum.\n",
    "min_value = math.floor(np.amin(temp))\n",
    "max_value = math.ceil(np.amax(temp))\n",
    "print(f'min value: {min_value}')\n",
    "print(f'max_value: {max_value}')"
   ]
  },
  {
   "cell_type": "markdown",
   "metadata": {
    "pycharm": {
     "name": "#%% md\n"
    }
   },
   "source": [
    "Display the original data on a map."
   ]
  },
  {
   "cell_type": "code",
   "execution_count": null,
   "metadata": {},
   "outputs": [],
   "source": [
    "import matplotlib.pyplot as plt\n",
    "import cartopy.crs as ccrs\n",
    "\n",
    "fig = plt.figure(figsize=(16,8))\n",
    "ax = plt.axes(projection=ccrs.Robinson())\n",
    "ax.gridlines(linestyle='--',color='black')\n",
    "ax.coastlines()\n",
    "clevs = np.arange(min_value,max_value,1)\n",
    "plt.contourf(lons, lats, temp, clevs, transform=ccrs.PlateCarree(),cmap=plt.cm.jet)\n",
    "plt.title(dataset['temp'].__dict__['long_name'], size=14)\n",
    "cb = plt.colorbar(ax=ax, orientation=\"vertical\", pad=0.02, aspect=16, shrink=0.8)\n",
    "cb.set_label(dataset['temp'].__dict__['units'],size=12,rotation=90,labelpad=15)\n",
    "cb.ax.tick_params(labelsize=10)"
   ]
  },
  {
   "cell_type": "markdown",
   "source": [
    "### Regrid the data\n",
    "\n",
    "Use the regridding utility provided in this repository to convert the 2-dimensional `latitude` and `longitude` grid to a regular (rectilinear) grid where `latitude` and `longitude` are 1-dimensional.\n",
    "\n",
    "__WARNING__: Depending on the `resolution` selected, the regridding process can take a very long time (hours) to prepare the mapping (input -> output), however the regridding itself is quite fast after the mappings are cached."
   ],
   "metadata": {
    "collapsed": false,
    "pycharm": {
     "name": "#%% md\n"
    }
   }
  },
  {
   "cell_type": "code",
   "execution_count": null,
   "outputs": [],
   "source": [
    "import regrid.builder as RegridBuilder\n",
    "\n",
    "regridder = RegridBuilder.build_from_input_grid(lats, lons, resolution=0.1)\n",
    "regridded_temp = regridder.regrid(temp)\n",
    "\n",
    "print(f'regridded_temp.shape: {np.shape(regridded_temp)}')"
   ],
   "metadata": {
    "collapsed": false,
    "pycharm": {
     "name": "#%%\n"
    }
   }
  },
  {
   "cell_type": "markdown",
   "source": [
    "Display the regridded data on a map."
   ],
   "metadata": {
    "collapsed": false,
    "pycharm": {
     "name": "#%% md\n"
    }
   }
  },
  {
   "cell_type": "code",
   "execution_count": null,
   "outputs": [],
   "source": [
    "# Scan the extracted data for the minimum and maximum.\n",
    "min_value = math.floor(np.amin(temp))\n",
    "max_value = math.ceil(np.amax(temp))\n",
    "print(f'min value: {min_value}')\n",
    "print(f'max_value: {max_value}')\n",
    "\n",
    "fig = plt.figure(figsize=(16,8))\n",
    "ax = plt.axes(projection=ccrs.Robinson())\n",
    "ax.gridlines(linestyle='--',color='black')\n",
    "ax.coastlines()\n",
    "clevs = np.arange(min_value,max_value,1)\n",
    "plt.contourf(regridder.longitude_array, regridder.latitude_array, regridded_temp, clevs, transform=ccrs.PlateCarree(),cmap=plt.cm.jet)\n",
    "plt.title(dataset['temp'].__dict__['long_name'] + ' (regridded)', size=14)\n",
    "cb = plt.colorbar(ax=ax, orientation=\"vertical\", pad=0.02, aspect=16, shrink=0.8)\n",
    "cb.set_label(dataset['temp'].__dict__['units'],size=12,rotation=90,labelpad=15)\n",
    "cb.ax.tick_params(labelsize=10)\n"
   ],
   "metadata": {
    "collapsed": false,
    "pycharm": {
     "name": "#%%\n"
    }
   }
  },
  {
   "cell_type": "markdown",
   "metadata": {
    "pycharm": {
     "name": "#%% md\n"
    }
   },
   "source": [
    "## Links\n",
    "- [Python Netcdf library](https://unidata.github.io/netcdf4-python/)\n",
    "- [eReefs Hydrodynamic and BioGeoChemical models of the Great Barrier Reef (GBR)](https://ereefs.aims.gov.au/ereefs-aims)\n",
    "\n",
    "## Acknowledgements\n",
    "These tutorials build on ideas and content from the following sources:\n",
    "- [Read NetCDF Data with Python](https://towardsdatascience.com/read-netcdf-data-with-python-901f7ff61648)\n"
   ]
  },
  {
   "cell_type": "code",
   "execution_count": null,
   "metadata": {},
   "outputs": [],
   "source": []
  }
 ],
 "metadata": {
  "kernelspec": {
   "display_name": "Python 3",
   "language": "python",
   "name": "python3"
  },
  "language_info": {
   "codemirror_mode": {
    "name": "ipython",
    "version": 3
   },
   "file_extension": ".py",
   "mimetype": "text/x-python",
   "name": "python",
   "nbconvert_exporter": "python",
   "pygments_lexer": "ipython3",
   "version": "3.8.6"
  }
 },
 "nbformat": 4,
 "nbformat_minor": 1
}